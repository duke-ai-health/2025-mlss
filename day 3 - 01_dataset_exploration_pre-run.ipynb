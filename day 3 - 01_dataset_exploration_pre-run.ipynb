{
 "cells": [
  {
   "cell_type": "markdown",
   "id": "afea604e",
   "metadata": {},
   "source": [
    "# 🛣️ Exploring the BDD100K Dataset with FiftyOne\n",
    "\n",
    "Welcome to this hands-on workshop on dataset exploration and semantic search using [FiftyOne](https://voxel51.com/fiftyone/), the BDD100K dataset, and CLIP embeddings.\n",
    "\n",
    "## 📦 What is BDD100K?\n",
    "\n",
    "The **Berkeley DeepDrive BDD100K** dataset is one of the largest and most diverse open driving datasets available. It contains **100,000 video clips**, annotated with rich metadata for tasks such as:\n",
    "\n",
    "- **Object Detection**\n",
    "- **Lane Detection**\n",
    "- **Instance Segmentation**\n",
    "- **Drivable Area Segmentation**\n",
    "- **Multiple Object Tracking**\n",
    "- **Image Classification**\n",
    "- **Domain Adaptation**\n",
    "\n",
    "Collected from dashcams mounted on vehicles, BDD100K covers a broad range of real-world driving scenarios, including various **weather conditions, times of day, and geographic locations**. This diversity makes it ideal for training and evaluating robust computer vision models in the context of autonomous driving and mobility research.\n",
    "\n",
    "## 🎯 Workshop Objective\n",
    "\n",
    "In this notebook, we will:\n",
    "\n",
    "- Load and explore the BDD100K dataset using FiftyOne\n",
    "- Apply filters to create views of interest (e.g., specific weather or time-of-day conditions)\n",
    "- Prepare the dataset for semantic search using CLIP embeddings\n",
    "\n",
    "By the end of this session, you will have a solid foundation in using FiftyOne to **interact with large-scale vision datasets**, enabling smarter data curation and analysis for your machine learning workflows.\n",
    "\n",
    "Let's get started! 🚗💨\n"
   ]
  },
  {
   "cell_type": "code",
   "execution_count": null,
   "id": "b6f37a69",
   "metadata": {},
   "outputs": [],
   "source": [
    "# Install necessary packages\n",
    "#!pip install fiftyone torch torchvision python-dotenv mlflow umap-learn"
   ]
  },
  {
   "cell_type": "markdown",
   "id": "15525903",
   "metadata": {},
   "source": [
    "Wait until this endpoint is ready, any action before that can create a 500 or 400 HTTP Error."
   ]
  },
  {
   "cell_type": "markdown",
   "id": "ba3f8c95",
   "metadata": {},
   "source": [
    "## 📁 Load the BDD100K Dataset and Launch FiftyOne\n",
    "We will use the `BDD100K` dataset from HuggingFace Hub."
   ]
  },
  {
   "cell_type": "code",
   "execution_count": 14,
   "id": "0504630e-98c7-49f2-9271-c22d2062b2ee",
   "metadata": {},
   "outputs": [],
   "source": [
    "# import fiftyone as fo\n",
    "# if \"bdd10k_imported\" in fo.list_datasets():\n",
    "#     fo.delete_dataset(\"bdd10k_imported\")"
   ]
  },
  {
   "cell_type": "code",
   "execution_count": 1,
   "id": "defe3875",
   "metadata": {},
   "outputs": [
    {
     "name": "stdout",
     "output_type": "stream",
     "text": [
      "Dataset 'bdd10k_imported' does not exist. Creating a new one...\n",
      "Importing samples...\n",
      " 100% |█████████████| 10000/10000 [1.3s elapsed, 0s remaining, 7.8K samples/s]         \n"
     ]
    }
   ],
   "source": [
    "import fiftyone as fo\n",
    "import fiftyone.zoo as foz\n",
    "import fiftyone.brain as fob\n",
    "\n",
    "import fiftyone.utils.huggingface as fouh # Hugging Face integration\n",
    "\n",
    "import os\n",
    "\n",
    "# Increase both connection and read timeout values (in seconds)\n",
    "# os.environ[\"HF_HUB_DOWNLOAD_TIMEOUT\"] = \"60\"  # default is 10\n",
    "# os.environ[\"HF_HUB_ETAG_TIMEOUT\"] = \"30\"      # metadata fetch timeout\n",
    "# dataset = fouh.load_from_hub(\"dgural/bdd100k\", persistent=True, name= \"bdd10k\") #, overwrite=True)\n",
    "\n",
    "# # Define the new dataset name\n",
    "# dataset_name = \"bdd10k\"\n",
    " \n",
    "dataset_name = \"bdd10k_imported\"\n",
    "\n",
    "# Check if the dataset exists\n",
    "if dataset_name in fo.list_datasets():\n",
    "    print(f\"Dataset '{dataset_name}' exists. Loading...\")\n",
    "    dataset = fo.load_dataset(dataset_name)\n",
    "else:\n",
    "    print(f\"Dataset '{dataset_name}' does not exist. Creating a new one...\")\n",
    "    # Path to the exported folder\n",
    "    export_dir = \"bdd100k_FO\"\n",
    "    \n",
    "    # Load the dataset from the folder\n",
    "    dataset = fo.Dataset.from_dir(\n",
    "        dataset_dir=export_dir,\n",
    "        dataset_type=fo.types.FiftyOneDataset,\n",
    "        name=dataset_name  # You can choose any name here\n",
    "    )\n",
    "\n",
    "dataset.persistent = True\n",
    "\n"
   ]
  },
  {
   "cell_type": "markdown",
   "id": "11f513b0",
   "metadata": {},
   "source": [
    "### 📋 List Datasets\n",
    "This cell prints the list of currently available FiftyOne datasets."
   ]
  },
  {
   "cell_type": "code",
   "execution_count": 2,
   "id": "19493819",
   "metadata": {},
   "outputs": [
    {
     "name": "stdout",
     "output_type": "stream",
     "text": [
      "['bdd100k_100_unique', 'bdd100k_test', 'bdd10k_imported']\n"
     ]
    }
   ],
   "source": [
    "print(fo.list_datasets())"
   ]
  },
  {
   "cell_type": "markdown",
   "id": "d960b77a-7b44-4468-ac55-a1bc81aa2c34",
   "metadata": {},
   "source": [
    "### 🚀 Launch FiftyOne App\n",
    "This cell launches the FiftyOne App for interactive dataset visualization."
   ]
  },
  {
   "cell_type": "code",
   "execution_count": 3,
   "id": "523309ba-3d9d-4ce4-b4f0-fcfff69eeed3",
   "metadata": {},
   "outputs": [
    {
     "name": "stdout",
     "output_type": "stream",
     "text": [
      "Session launched. Run `session.show()` to open the App in a cell output.\n"
     ]
    }
   ],
   "source": [
    "proxy_host = \"https://\"+os.getenv(\"VIRTUAL_HOST\")+\"/fiftyone/\"\n",
    "fo.app_config.proxy_url = proxy_host\n",
    "session = fo.launch_app(dataset, auto=False )"
   ]
  },
  {
   "cell_type": "code",
   "execution_count": 4,
   "id": "98f9df31-647d-4364-830c-d14d39547c83",
   "metadata": {},
   "outputs": [
    {
     "name": "stdout",
     "output_type": "stream",
     "text": [
      "https://ml-az-05.oit.duke.edu:40003/fiftyone/?proxy=/fiftyone/&polling=true\n"
     ]
    }
   ],
   "source": [
    "print(session.url)"
   ]
  },
  {
   "cell_type": "markdown",
   "id": "3dd02ec3",
   "metadata": {},
   "source": [
    "### 🖨️ Display Dataset\n",
    "This cell prints basic information about the currently loaded dataset."
   ]
  },
  {
   "cell_type": "code",
   "execution_count": 5,
   "id": "b697ec43",
   "metadata": {},
   "outputs": [
    {
     "name": "stdout",
     "output_type": "stream",
     "text": [
      "Name:        bdd10k_imported\n",
      "Media type:  image\n",
      "Num samples: 10000\n",
      "Persistent:  True\n",
      "Tags:        []\n",
      "Sample fields:\n",
      "    id:                 fiftyone.core.fields.ObjectIdField\n",
      "    filepath:           fiftyone.core.fields.StringField\n",
      "    tags:               fiftyone.core.fields.ListField(fiftyone.core.fields.StringField)\n",
      "    metadata:           fiftyone.core.fields.EmbeddedDocumentField(fiftyone.core.metadata.ImageMetadata)\n",
      "    created_at:         fiftyone.core.fields.DateTimeField\n",
      "    last_modified_at:   fiftyone.core.fields.DateTimeField\n",
      "    detections:         fiftyone.core.fields.EmbeddedDocumentField(fiftyone.core.labels.Detections)\n",
      "    polylines:          fiftyone.core.fields.EmbeddedDocumentField(fiftyone.core.labels.Polylines)\n",
      "    weather:            fiftyone.core.fields.EmbeddedDocumentField(fiftyone.core.labels.Classification)\n",
      "    timeofday:          fiftyone.core.fields.EmbeddedDocumentField(fiftyone.core.labels.Classification)\n",
      "    scene:              fiftyone.core.fields.EmbeddedDocumentField(fiftyone.core.labels.Classification)\n",
      "    drivable:           fiftyone.core.fields.EmbeddedDocumentField(fiftyone.core.labels.Segmentation)\n",
      "    yolo8_predictions:  fiftyone.core.fields.EmbeddedDocumentField(fiftyone.core.labels.Detections)\n",
      "    yolo11_predictions: fiftyone.core.fields.EmbeddedDocumentField(fiftyone.core.labels.Detections)\n",
      "    uniqueness:         fiftyone.core.fields.FloatField\n",
      "    sklearn_embedding:  fiftyone.core.fields.VectorField\n"
     ]
    }
   ],
   "source": [
    "print(dataset)"
   ]
  },
  {
   "cell_type": "markdown",
   "id": "0ae05314",
   "metadata": {},
   "source": [
    "### 🔍 Access Dataset Fields\n",
    "This cell uses `ViewField` to reference nested fields in the dataset for filtering or querying."
   ]
  },
  {
   "cell_type": "code",
   "execution_count": 6,
   "id": "0342457a",
   "metadata": {},
   "outputs": [],
   "source": [
    "from fiftyone import ViewField as F\n",
    "\n",
    "# Access the `label` inside the `timeofday` Classification object\n",
    "night_view = dataset.match(F(\"timeofday.label\") == \"night\")\n",
    "session.view = night_view"
   ]
  },
  {
   "cell_type": "markdown",
   "id": "c10f629f",
   "metadata": {},
   "source": [
    "### ☔ Filter for Rainy Weather\n",
    "This cell filters the dataset to only include samples where the weather label is 'rainy'."
   ]
  },
  {
   "cell_type": "code",
   "execution_count": 7,
   "id": "310adb87",
   "metadata": {},
   "outputs": [],
   "source": [
    "rain_view = night_view.match(F(\"weather.label\") == \"rainy\")\n",
    "session.view = rain_view"
   ]
  },
  {
   "cell_type": "markdown",
   "id": "e53d4f1f",
   "metadata": {},
   "source": [
    "### 💻 Code Execution\n",
    "This cell performs operations as part of the dataset setup or analysis."
   ]
  },
  {
   "cell_type": "code",
   "execution_count": 8,
   "id": "65c45a9e",
   "metadata": {},
   "outputs": [],
   "source": [
    "night_pedestrian_view = (\n",
    "    dataset\n",
    "    .match(F(\"timeofday.label\") == \"night\")\n",
    "    .filter_labels(\"detections\", F(\"label\") == \"pedestrian\")\n",
    ")\n",
    "session.view = night_pedestrian_view"
   ]
  },
  {
   "cell_type": "code",
   "execution_count": null,
   "id": "816f7abb-a4fe-46fa-9bea-377c1514fd71",
   "metadata": {},
   "outputs": [],
   "source": []
  }
 ],
 "metadata": {
  "kernelspec": {
   "display_name": "Python 3 (ipykernel)",
   "language": "python",
   "name": "python3"
  },
  "language_info": {
   "codemirror_mode": {
    "name": "ipython",
    "version": 3
   },
   "file_extension": ".py",
   "mimetype": "text/x-python",
   "name": "python",
   "nbconvert_exporter": "python",
   "pygments_lexer": "ipython3",
   "version": "3.12.9"
  }
 },
 "nbformat": 4,
 "nbformat_minor": 5
}
